{
 "cells": [
  {
   "cell_type": "markdown",
   "metadata": {},
   "source": [
    "# Import libraries and data to add features."
   ]
  },
  {
   "cell_type": "code",
   "execution_count": 1,
   "metadata": {},
   "outputs": [],
   "source": [
    "import pandas as pd\n",
    "import numpy as np\n",
    "import re\n",
    "\n",
    "df = pd.read_csv('data/ags_data.csv', index_col=0)\n",
    "df_clients = pd.read_csv('data/cliente_tabla.csv', index_col=0)\n",
    "df = df.iloc[:, :-4]"
   ]
  },
  {
   "cell_type": "markdown",
   "metadata": {},
   "source": [
    "# Name of product decomposition to important data\n",
    "\n",
    "There are important features in the column 'NombreProducto' that can be decomposed into important data like amount of pieces per product, brand name and weight."
   ]
  },
  {
   "cell_type": "code",
   "execution_count": 2,
   "metadata": {},
   "outputs": [],
   "source": [
    "#Function to get just the product name from the column NombreProducto\n",
    "\n",
    "#def get_product_name(df):\n",
    "    #Buga's regex"
   ]
  },
  {
   "cell_type": "markdown",
   "metadata": {},
   "source": [
    "Amount of pieces given product name"
   ]
  },
  {
   "cell_type": "code",
   "execution_count": 3,
   "metadata": {},
   "outputs": [],
   "source": [
    "def df_add_piece_amount(df):\n",
    "    pieces = df['NombreProducto'].str.extract(' (\\d+)(p|pct)', expand=True)[0]\n",
    "    pieces.fillna(1, inplace=True)\n",
    "    df['PieceAmount'] = pieces.astype(int)\n",
    "    return df\n",
    "\n",
    "df = df_add_piece_amount(df)"
   ]
  },
  {
   "cell_type": "markdown",
   "metadata": {},
   "source": [
    "Amount of weight given product name"
   ]
  },
  {
   "cell_type": "code",
   "execution_count": 4,
   "metadata": {},
   "outputs": [],
   "source": [
    "# Function to get the weight of the product from the column NombreProducto\n",
    "\n",
    "def df_add_weight_grams(df):\n",
    "    weights = df['NombreProducto'].str.extract(r' (\\d+)(ml|g|Kg|kg)', expand=True)\n",
    "    #Tostada Ondulada Tubo is the only product with no weight in the name, searched for it and found it was 360g\n",
    "    weights[0].fillna(360,inplace=True)\n",
    "    weights[1].fillna('g',inplace=True)\n",
    "    weights[0] = weights[0].astype(int)\n",
    "    weights[1] = weights[1].astype(str)\n",
    "    weights[1] = weights[1].str.lower()\n",
    "    weights[0] = np.where(weights[1] == 'kg', weights[0]*1000, weights[0])\n",
    "\n",
    "    df['WeightGrams'] = weights[0]\n",
    "    return df\n",
    "\n",
    "df = df_add_weight_grams(df)"
   ]
  },
  {
   "cell_type": "markdown",
   "metadata": {},
   "source": [
    "Save new table with added features to a csv file."
   ]
  },
  {
   "cell_type": "code",
   "execution_count": 5,
   "metadata": {},
   "outputs": [],
   "source": [
    "df.to_csv('data/ags_data_processed.csv')"
   ]
  },
  {
   "cell_type": "markdown",
   "metadata": {},
   "source": [
    "# Client grouping based on name and size.\n",
    "Clients that are only in the state of importance."
   ]
  },
  {
   "cell_type": "code",
   "execution_count": 6,
   "metadata": {},
   "outputs": [
    {
     "name": "stderr",
     "output_type": "stream",
     "text": [
      "C:\\Users\\perez\\AppData\\Local\\Temp\\ipykernel_2908\\1737143281.py:6: SettingWithCopyWarning: \n",
      "A value is trying to be set on a copy of a slice from a DataFrame\n",
      "\n",
      "See the caveats in the documentation: https://pandas.pydata.org/pandas-docs/stable/user_guide/indexing.html#returning-a-view-versus-a-copy\n",
      "  df_clients.drop_duplicates(subset='Cliente_ID', inplace=True, keep='first')\n"
     ]
    }
   ],
   "source": [
    "# Clean cliente_tabla, only keep clients from aguascalientes, drop duplicates.\n",
    "def get_clients_ags(df, df_clients):\n",
    "    df_clients.reset_index(inplace=True)\n",
    "    unique_clients_list = df['Cliente_ID'].unique()\n",
    "    df_clients = df_clients[df_clients['Cliente_ID'].isin(unique_clients_list)]\n",
    "    df_clients.drop_duplicates(subset='Cliente_ID', inplace=True, keep='first')\n",
    "    return df_clients\n",
    "\n",
    "df_clients = get_clients_ags(df, df_clients)"
   ]
  },
  {
   "cell_type": "markdown",
   "metadata": {},
   "source": [
    "Client type grouping based on name of client."
   ]
  },
  {
   "cell_type": "code",
   "execution_count": 7,
   "metadata": {},
   "outputs": [
    {
     "data": {
      "text/html": [
       "<div>\n",
       "<style scoped>\n",
       "    .dataframe tbody tr th:only-of-type {\n",
       "        vertical-align: middle;\n",
       "    }\n",
       "\n",
       "    .dataframe tbody tr th {\n",
       "        vertical-align: top;\n",
       "    }\n",
       "\n",
       "    .dataframe thead th {\n",
       "        text-align: right;\n",
       "    }\n",
       "</style>\n",
       "<table border=\"1\" class=\"dataframe\">\n",
       "  <thead>\n",
       "    <tr style=\"text-align: right;\">\n",
       "      <th></th>\n",
       "      <th>Cliente_ID</th>\n",
       "      <th>NombreCliente</th>\n",
       "      <th>ClientType</th>\n",
       "    </tr>\n",
       "  </thead>\n",
       "  <tbody>\n",
       "    <tr>\n",
       "      <th>2661</th>\n",
       "      <td>9200</td>\n",
       "      <td>CECILIA</td>\n",
       "      <td>Individual</td>\n",
       "    </tr>\n",
       "    <tr>\n",
       "      <th>2990</th>\n",
       "      <td>10433</td>\n",
       "      <td>ABARROTES ELIZABETH</td>\n",
       "      <td>Small Store</td>\n",
       "    </tr>\n",
       "    <tr>\n",
       "      <th>3021</th>\n",
       "      <td>10513</td>\n",
       "      <td>ABTS GONZALEZ</td>\n",
       "      <td>Small Store</td>\n",
       "    </tr>\n",
       "    <tr>\n",
       "      <th>3032</th>\n",
       "      <td>10533</td>\n",
       "      <td>ABARROTES LA PESADITA</td>\n",
       "      <td>Small Store</td>\n",
       "    </tr>\n",
       "    <tr>\n",
       "      <th>9418</th>\n",
       "      <td>26298</td>\n",
       "      <td>ABARROTES CHOLE</td>\n",
       "      <td>Small Store</td>\n",
       "    </tr>\n",
       "  </tbody>\n",
       "</table>\n",
       "</div>"
      ],
      "text/plain": [
       "      Cliente_ID          NombreCliente   ClientType\n",
       "2661        9200                CECILIA   Individual\n",
       "2990       10433    ABARROTES ELIZABETH  Small Store\n",
       "3021       10513          ABTS GONZALEZ  Small Store\n",
       "3032       10533  ABARROTES LA PESADITA  Small Store\n",
       "9418       26298        ABARROTES CHOLE  Small Store"
      ]
     },
     "execution_count": 7,
     "metadata": {},
     "output_type": "execute_result"
    }
   ],
   "source": [
    "# Separate clients into categories given their names.\n",
    "def add_client_type(df_clients):\n",
    "    df_clients['ClientType'] = np.nan\n",
    "    \n",
    "    df_clients.loc[(df_clients.NombreCliente.str.contains('.*NO IDENTIFICADO.*', case=False)) & (df_clients['ClientType'].isna()), 'ClientType']\\\n",
    "                                                            = 'NI'\n",
    "    df_clients.loc[(df_clients.NombreCliente.str.contains('.*WAL MART.*|.*SORIANA.*|.*LA COMER.*|.*SUPERAMA.*|.*AURRERA.*|.*CHEDRAUI.*|.*SUPERCENTER.*|.*COMERCIAL MEXICANA.*|.*COSTCO.*|.*SAMS.*|.*MI BODEGA.*', case=False))  & (df_clients['ClientType'].isna()), 'ClientType']\\\n",
    "                                                            = 'Big Store'\n",
    "    df_clients.loc[(df_clients.NombreCliente.str.contains('.*ABARROT.*|.*ABTS.*|.*CREMERIA.*|.*MINI SUPER.*|.*FRUTERIA.*|.*CARNICERIA.*|.*VINOS.*|.*TIENDITA.*|.*PAPELERIA.*|.*LA FLOR.*', case=False)) & (df_clients['ClientType'].isna()),'ClientType']\\\n",
    "                                                            = 'Small Store'\n",
    "    df_clients.loc[(df_clients.NombreCliente.str.contains('.*BODEGA.*|.*MERCADO.*|.*PLAZA.*|.*SUPER.*|.*MODELORAMA.*',case=False))  & (df_clients['ClientType'].isna()), 'ClientType']\\\n",
    "                                                            = 'Medium Store'\n",
    "    df_clients.loc[(df_clients.NombreCliente.str.contains('.*COLEG.*|.*UNIV.*|.*ESCUELA.*|.*INSTI.*|.*PREPAR.*|.*SECUNDARIA.*|.*CBTIS.*', case=False))  & (df_clients['ClientType'].isna()), 'ClientType']\\\n",
    "                                                            = 'School'\n",
    "    df_clients.loc[(df_clients.NombreCliente.str.contains('.*FARMACIA.*') & (df_clients['ClientType'].isna())), 'ClientType']\\\n",
    "                                                            = 'Pharmacy'\n",
    "    df_clients.loc[(df_clients.NombreCliente.str.contains('.*CARLS JR.*|.*CAFE.*|.*BURGER.*|.*BURGUER.*|.*HAMBUR.*|.*PIZZA.*|.*LONCHES.*|.*GORDITAS.*|.*CARNITAS.*|.*BURRITOS.*|.*TACOS.*|.*TAQUERIA.*|.*LONCHERIA.*|.*LA MICHOACANA.*|.*JUGOS.*|.*LICUADOS.*|.*CHOCOS.*') & (df_clients['ClientType'].isna())), 'ClientType']\\\n",
    "                                                            = 'Restaurant'\n",
    "    df_clients.loc[(df_clients.NombreCliente.str.contains('.*OXXO.*') & (df_clients['ClientType'].isna())), 'ClientType']\\\n",
    "                                                            = 'OXXO Store'\n",
    "    df_clients.loc[(df_clients.NombreCliente.str.contains('.*CERESO.*') & (df_clients['ClientType'].isna())), 'ClientType']\\\n",
    "                                                            = 'Government'\n",
    "    df_clients.loc[(df_clients.NombreCliente.str.contains('.*JATCO.*|.*PRIMERA PLUS.*') & (df_clients['ClientType'].isna())), 'ClientType']\\\n",
    "                                                            = 'Business'\n",
    "    df_clients.loc[(df_clients.NombreCliente.str.contains('.*EXPENDIO.*|.*BIMBO.*') & (df_clients['ClientType'].isna())), 'ClientType']\\\n",
    "                                                            = 'Business'\n",
    "    df_clients['ClientType'].fillna('Individual', inplace=True)\n",
    "    \n",
    "    return df_clients\n",
    "\n",
    "df_clients = add_client_type(df_clients)\n",
    "df_clients.head(5)"
   ]
  },
  {
   "cell_type": "markdown",
   "metadata": {},
   "source": [
    "Save new table with grouped features in a csv file."
   ]
  },
  {
   "cell_type": "code",
   "execution_count": 8,
   "metadata": {},
   "outputs": [],
   "source": [
    "df_clients.to_csv('data/clients_ags_processed.csv', index=False)"
   ]
  }
 ],
 "metadata": {
  "kernelspec": {
   "display_name": "base",
   "language": "python",
   "name": "python3"
  },
  "language_info": {
   "codemirror_mode": {
    "name": "ipython",
    "version": 3
   },
   "file_extension": ".py",
   "mimetype": "text/x-python",
   "name": "python",
   "nbconvert_exporter": "python",
   "pygments_lexer": "ipython3",
   "version": "3.11.4"
  }
 },
 "nbformat": 4,
 "nbformat_minor": 2
}
