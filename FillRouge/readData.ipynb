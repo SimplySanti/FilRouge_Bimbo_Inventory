{
 "cells": [
  {
   "cell_type": "markdown",
   "metadata": {},
   "source": [
    "# Data reading and cleaning "
   ]
  },
  {
   "cell_type": "markdown",
   "metadata": {},
   "source": [
    "## Import libraries"
   ]
  },
  {
   "cell_type": "code",
   "execution_count": 2,
   "metadata": {},
   "outputs": [],
   "source": [
    "import pandas as pd\n",
    "import numpy as np \n",
    "import re"
   ]
  },
  {
   "cell_type": "markdown",
   "metadata": {},
   "source": [
    "## Functions\n",
    "getProducts(path) <br>\n",
    "getEncodedProducts(path)"
   ]
  },
  {
   "cell_type": "markdown",
   "metadata": {},
   "source": [
    "### Read producto_tabla.csv"
   ]
  },
  {
   "cell_type": "markdown",
   "metadata": {},
   "source": [
    "#### Create categories by product"
   ]
  },
  {
   "cell_type": "code",
   "execution_count": 5,
   "metadata": {},
   "outputs": [],
   "source": [
    "def get_category(name):\n",
    "    name = re.sub(r'\\d+[gpKmLlin].*$', '', name)\n",
    "    return name"
   ]
  },
  {
   "cell_type": "markdown",
   "metadata": {},
   "source": [
    "#### Get pieces of product"
   ]
  },
  {
   "cell_type": "code",
   "execution_count": 6,
   "metadata": {},
   "outputs": [],
   "source": [
    "def df_add_piece_amount(df):\n",
    "    pieces = df['NombreProducto'].str.extract(' (\\d+)(p|pct)', expand=True)[0]\n",
    "    pieces.fillna(1, inplace=True)\n",
    "    df['PieceAmount'] = pieces.astype(int)\n",
    "    return df"
   ]
  },
  {
   "cell_type": "markdown",
   "metadata": {},
   "source": [
    "#### Get weight of product"
   ]
  },
  {
   "cell_type": "code",
   "execution_count": 7,
   "metadata": {},
   "outputs": [],
   "source": [
    "def df_add_weight_grams(df):\n",
    "    weights = df['NombreProducto'].str.extract(r' (\\d+)(ml|g|Kg|kg)', expand=True)\n",
    "    #Tostada Ondulada Tubo is the only product with no weight in the name, searched for it and found it was 360g\n",
    "    weights[0].fillna(360,inplace=True)\n",
    "    weights[1].fillna('g',inplace=True)\n",
    "    weights[0] = weights[0].astype(int)\n",
    "    weights[1] = weights[1].astype(str)\n",
    "    weights[1] = weights[1].str.lower()\n",
    "    weights[0] = np.where(weights[1] == 'kg', weights[0]*1000, weights[0])\n",
    "\n",
    "    df['WeightGrams'] = weights[0]\n",
    "    return df"
   ]
  },
  {
   "cell_type": "code",
   "execution_count": 8,
   "metadata": {},
   "outputs": [],
   "source": [
    "def setCategoryID(df):\n",
    "    cat_names = list(df['CategoriaProducto'].unique())\n",
    "    categories = {}\n",
    "\n",
    "    for product in cat_names:\n",
    "        categories[product] = cat_names.index(product)\n",
    "        \n",
    "    df['CategoriaID'] = df['CategoriaProducto'].map(categories)\n",
    "    return df\n"
   ]
  },
  {
   "cell_type": "markdown",
   "metadata": {},
   "source": [
    "#### **getProducts(path): Return products dataframe with productId, product category (object), weight and pieces**"
   ]
  },
  {
   "cell_type": "code",
   "execution_count": 9,
   "metadata": {},
   "outputs": [
    {
     "data": {
      "text/html": [
       "<div>\n",
       "<style scoped>\n",
       "    .dataframe tbody tr th:only-of-type {\n",
       "        vertical-align: middle;\n",
       "    }\n",
       "\n",
       "    .dataframe tbody tr th {\n",
       "        vertical-align: top;\n",
       "    }\n",
       "\n",
       "    .dataframe thead th {\n",
       "        text-align: right;\n",
       "    }\n",
       "</style>\n",
       "<table border=\"1\" class=\"dataframe\">\n",
       "  <thead>\n",
       "    <tr style=\"text-align: right;\">\n",
       "      <th></th>\n",
       "      <th>Producto_ID</th>\n",
       "      <th>CategoriaProducto</th>\n",
       "      <th>CategoriaID</th>\n",
       "      <th>WeightGrams</th>\n",
       "      <th>PieceAmount</th>\n",
       "    </tr>\n",
       "  </thead>\n",
       "  <tbody>\n",
       "    <tr>\n",
       "      <th>0</th>\n",
       "      <td>0</td>\n",
       "      <td>NO IDENTIFICADO 0</td>\n",
       "      <td>0</td>\n",
       "      <td>360</td>\n",
       "      <td>1</td>\n",
       "    </tr>\n",
       "    <tr>\n",
       "      <th>1</th>\n",
       "      <td>9</td>\n",
       "      <td>Capuccino Moka</td>\n",
       "      <td>1</td>\n",
       "      <td>750</td>\n",
       "      <td>1</td>\n",
       "    </tr>\n",
       "    <tr>\n",
       "      <th>2</th>\n",
       "      <td>41</td>\n",
       "      <td>Bimbollos Ext sAjonjoli</td>\n",
       "      <td>2</td>\n",
       "      <td>480</td>\n",
       "      <td>6</td>\n",
       "    </tr>\n",
       "    <tr>\n",
       "      <th>3</th>\n",
       "      <td>53</td>\n",
       "      <td>Burritos Sincro</td>\n",
       "      <td>3</td>\n",
       "      <td>170</td>\n",
       "      <td>1</td>\n",
       "    </tr>\n",
       "    <tr>\n",
       "      <th>4</th>\n",
       "      <td>72</td>\n",
       "      <td>Div Tira Mini Doradita</td>\n",
       "      <td>4</td>\n",
       "      <td>45</td>\n",
       "      <td>4</td>\n",
       "    </tr>\n",
       "  </tbody>\n",
       "</table>\n",
       "</div>"
      ],
      "text/plain": [
       "   Producto_ID         CategoriaProducto  CategoriaID  WeightGrams  \\\n",
       "0            0         NO IDENTIFICADO 0            0          360   \n",
       "1            9           Capuccino Moka             1          750   \n",
       "2           41  Bimbollos Ext sAjonjoli             2          480   \n",
       "3           53          Burritos Sincro             3          170   \n",
       "4           72   Div Tira Mini Doradita             4           45   \n",
       "\n",
       "   PieceAmount  \n",
       "0            1  \n",
       "1            1  \n",
       "2            6  \n",
       "3            1  \n",
       "4            4  "
      ]
     },
     "execution_count": 9,
     "metadata": {},
     "output_type": "execute_result"
    }
   ],
   "source": [
    "def getProducts(path = 'data/producto_tabla.csv'): \n",
    "    productsDF = pd.read_csv(path)\n",
    "    \n",
    "    productsDF['CategoriaProducto'] = productsDF['NombreProducto'].apply(get_category)\n",
    "    productsDF = setCategoryID(productsDF)\n",
    "    productsDF = df_add_weight_grams(productsDF)\n",
    "    productsDF = df_add_piece_amount(productsDF)\n",
    "    productsDF = productsDF.drop(['NombreProducto'], axis=1)\n",
    "\n",
    "    return productsDF\n",
    "\n",
    "productsDF = getProducts()\n",
    "productsDF.head()\n"
   ]
  },
  {
   "cell_type": "markdown",
   "metadata": {},
   "source": [
    "#### **getEncodedProducts(path): Return ENCODED products dataframe with productId, product category (encoded), weight and pieces**"
   ]
  },
  {
   "cell_type": "code",
   "execution_count": 24,
   "metadata": {},
   "outputs": [
    {
     "data": {
      "text/html": [
       "<div>\n",
       "<style scoped>\n",
       "    .dataframe tbody tr th:only-of-type {\n",
       "        vertical-align: middle;\n",
       "    }\n",
       "\n",
       "    .dataframe tbody tr th {\n",
       "        vertical-align: top;\n",
       "    }\n",
       "\n",
       "    .dataframe thead th {\n",
       "        text-align: right;\n",
       "    }\n",
       "</style>\n",
       "<table border=\"1\" class=\"dataframe\">\n",
       "  <thead>\n",
       "    <tr style=\"text-align: right;\">\n",
       "      <th></th>\n",
       "      <th>Producto_ID</th>\n",
       "      <th>WeightGrams</th>\n",
       "      <th>PieceAmount</th>\n",
       "      <th>CategoriaProducto_</th>\n",
       "      <th>CategoriaProducto_12 Tarima MiniMilk Kitty Nav</th>\n",
       "      <th>CategoriaProducto_12Granos Multigra TwinPack</th>\n",
       "      <th>CategoriaProducto_12Tarima Mini Milk Kitty SnVal</th>\n",
       "      <th>CategoriaProducto_7 Granos</th>\n",
       "      <th>CategoriaProducto_ActiFresh Menta</th>\n",
       "      <th>CategoriaProducto_ActiFresh Yerbabuena</th>\n",
       "      <th>...</th>\n",
       "      <th>CategoriaProducto_Tuinky Vainilla</th>\n",
       "      <th>CategoriaProducto_Twin Pack Thins Multig</th>\n",
       "      <th>CategoriaProducto_Twinkies Vainilla</th>\n",
       "      <th>CategoriaProducto_Two Pack Classicas AvellanaFsa</th>\n",
       "      <th>CategoriaProducto_Unico Fresco Naranja</th>\n",
       "      <th>CategoriaProducto_Valentones</th>\n",
       "      <th>CategoriaProducto_Vasos 226</th>\n",
       "      <th>CategoriaProducto_Vidrio Congelado</th>\n",
       "      <th>CategoriaProducto_Wonder</th>\n",
       "      <th>CategoriaProducto_Wonderbutter</th>\n",
       "    </tr>\n",
       "  </thead>\n",
       "  <tbody>\n",
       "    <tr>\n",
       "      <th>0</th>\n",
       "      <td>0</td>\n",
       "      <td>360</td>\n",
       "      <td>1</td>\n",
       "      <td>False</td>\n",
       "      <td>False</td>\n",
       "      <td>False</td>\n",
       "      <td>False</td>\n",
       "      <td>False</td>\n",
       "      <td>False</td>\n",
       "      <td>False</td>\n",
       "      <td>...</td>\n",
       "      <td>False</td>\n",
       "      <td>False</td>\n",
       "      <td>False</td>\n",
       "      <td>False</td>\n",
       "      <td>False</td>\n",
       "      <td>False</td>\n",
       "      <td>False</td>\n",
       "      <td>False</td>\n",
       "      <td>False</td>\n",
       "      <td>False</td>\n",
       "    </tr>\n",
       "    <tr>\n",
       "      <th>1</th>\n",
       "      <td>9</td>\n",
       "      <td>750</td>\n",
       "      <td>1</td>\n",
       "      <td>False</td>\n",
       "      <td>False</td>\n",
       "      <td>False</td>\n",
       "      <td>False</td>\n",
       "      <td>False</td>\n",
       "      <td>False</td>\n",
       "      <td>False</td>\n",
       "      <td>...</td>\n",
       "      <td>False</td>\n",
       "      <td>False</td>\n",
       "      <td>False</td>\n",
       "      <td>False</td>\n",
       "      <td>False</td>\n",
       "      <td>False</td>\n",
       "      <td>False</td>\n",
       "      <td>False</td>\n",
       "      <td>False</td>\n",
       "      <td>False</td>\n",
       "    </tr>\n",
       "    <tr>\n",
       "      <th>2</th>\n",
       "      <td>41</td>\n",
       "      <td>480</td>\n",
       "      <td>6</td>\n",
       "      <td>False</td>\n",
       "      <td>False</td>\n",
       "      <td>False</td>\n",
       "      <td>False</td>\n",
       "      <td>False</td>\n",
       "      <td>False</td>\n",
       "      <td>False</td>\n",
       "      <td>...</td>\n",
       "      <td>False</td>\n",
       "      <td>False</td>\n",
       "      <td>False</td>\n",
       "      <td>False</td>\n",
       "      <td>False</td>\n",
       "      <td>False</td>\n",
       "      <td>False</td>\n",
       "      <td>False</td>\n",
       "      <td>False</td>\n",
       "      <td>False</td>\n",
       "    </tr>\n",
       "    <tr>\n",
       "      <th>3</th>\n",
       "      <td>53</td>\n",
       "      <td>170</td>\n",
       "      <td>1</td>\n",
       "      <td>False</td>\n",
       "      <td>False</td>\n",
       "      <td>False</td>\n",
       "      <td>False</td>\n",
       "      <td>False</td>\n",
       "      <td>False</td>\n",
       "      <td>False</td>\n",
       "      <td>...</td>\n",
       "      <td>False</td>\n",
       "      <td>False</td>\n",
       "      <td>False</td>\n",
       "      <td>False</td>\n",
       "      <td>False</td>\n",
       "      <td>False</td>\n",
       "      <td>False</td>\n",
       "      <td>False</td>\n",
       "      <td>False</td>\n",
       "      <td>False</td>\n",
       "    </tr>\n",
       "    <tr>\n",
       "      <th>4</th>\n",
       "      <td>72</td>\n",
       "      <td>45</td>\n",
       "      <td>4</td>\n",
       "      <td>False</td>\n",
       "      <td>False</td>\n",
       "      <td>False</td>\n",
       "      <td>False</td>\n",
       "      <td>False</td>\n",
       "      <td>False</td>\n",
       "      <td>False</td>\n",
       "      <td>...</td>\n",
       "      <td>False</td>\n",
       "      <td>False</td>\n",
       "      <td>False</td>\n",
       "      <td>False</td>\n",
       "      <td>False</td>\n",
       "      <td>False</td>\n",
       "      <td>False</td>\n",
       "      <td>False</td>\n",
       "      <td>False</td>\n",
       "      <td>False</td>\n",
       "    </tr>\n",
       "  </tbody>\n",
       "</table>\n",
       "<p>5 rows × 1050 columns</p>\n",
       "</div>"
      ],
      "text/plain": [
       "   Producto_ID  WeightGrams  PieceAmount  CategoriaProducto_  \\\n",
       "0            0          360            1               False   \n",
       "1            9          750            1               False   \n",
       "2           41          480            6               False   \n",
       "3           53          170            1               False   \n",
       "4           72           45            4               False   \n",
       "\n",
       "   CategoriaProducto_12 Tarima MiniMilk Kitty Nav   \\\n",
       "0                                            False   \n",
       "1                                            False   \n",
       "2                                            False   \n",
       "3                                            False   \n",
       "4                                            False   \n",
       "\n",
       "   CategoriaProducto_12Granos Multigra TwinPack   \\\n",
       "0                                          False   \n",
       "1                                          False   \n",
       "2                                          False   \n",
       "3                                          False   \n",
       "4                                          False   \n",
       "\n",
       "   CategoriaProducto_12Tarima Mini Milk Kitty SnVal   \\\n",
       "0                                              False   \n",
       "1                                              False   \n",
       "2                                              False   \n",
       "3                                              False   \n",
       "4                                              False   \n",
       "\n",
       "   CategoriaProducto_7 Granos   CategoriaProducto_ActiFresh Menta   \\\n",
       "0                        False                               False   \n",
       "1                        False                               False   \n",
       "2                        False                               False   \n",
       "3                        False                               False   \n",
       "4                        False                               False   \n",
       "\n",
       "   CategoriaProducto_ActiFresh Yerbabuena   ...  \\\n",
       "0                                    False  ...   \n",
       "1                                    False  ...   \n",
       "2                                    False  ...   \n",
       "3                                    False  ...   \n",
       "4                                    False  ...   \n",
       "\n",
       "   CategoriaProducto_Tuinky Vainilla   \\\n",
       "0                               False   \n",
       "1                               False   \n",
       "2                               False   \n",
       "3                               False   \n",
       "4                               False   \n",
       "\n",
       "   CategoriaProducto_Twin Pack Thins Multig   \\\n",
       "0                                      False   \n",
       "1                                      False   \n",
       "2                                      False   \n",
       "3                                      False   \n",
       "4                                      False   \n",
       "\n",
       "   CategoriaProducto_Twinkies Vainilla   \\\n",
       "0                                 False   \n",
       "1                                 False   \n",
       "2                                 False   \n",
       "3                                 False   \n",
       "4                                 False   \n",
       "\n",
       "   CategoriaProducto_Two Pack Classicas AvellanaFsa   \\\n",
       "0                                              False   \n",
       "1                                              False   \n",
       "2                                              False   \n",
       "3                                              False   \n",
       "4                                              False   \n",
       "\n",
       "   CategoriaProducto_Unico Fresco Naranja   CategoriaProducto_Valentones   \\\n",
       "0                                    False                          False   \n",
       "1                                    False                          False   \n",
       "2                                    False                          False   \n",
       "3                                    False                          False   \n",
       "4                                    False                          False   \n",
       "\n",
       "   CategoriaProducto_Vasos 226   CategoriaProducto_Vidrio Congelado   \\\n",
       "0                         False                                False   \n",
       "1                         False                                False   \n",
       "2                         False                                False   \n",
       "3                         False                                False   \n",
       "4                         False                                False   \n",
       "\n",
       "   CategoriaProducto_Wonder   CategoriaProducto_Wonderbutter   \n",
       "0                      False                            False  \n",
       "1                      False                            False  \n",
       "2                      False                            False  \n",
       "3                      False                            False  \n",
       "4                      False                            False  \n",
       "\n",
       "[5 rows x 1050 columns]"
      ]
     },
     "execution_count": 24,
     "metadata": {},
     "output_type": "execute_result"
    }
   ],
   "source": [
    "def getEncodedProducts(path = 'data/producto_tabla.csv'): \n",
    "    productsDF = pd.read_csv(path)\n",
    "    \n",
    "    productsDF['CategoriaProducto'] = productsDF['NombreProducto'].apply(get_category)\n",
    "    productsDF = df_add_weight_grams(productsDF)\n",
    "    productsDF = df_add_piece_amount(productsDF)\n",
    "    productsDF = productsDF.drop(['NombreProducto'], axis=1)\n",
    "    productsDF = pd.get_dummies(productsDF, columns=['CategoriaProducto'])\n",
    "\n",
    "    return productsDF\n",
    "\n",
    "productsDF = getEncodedProducts()\n",
    "productsDF.head()\n"
   ]
  },
  {
   "cell_type": "markdown",
   "metadata": {},
   "source": [
    "### Read town_state.csv"
   ]
  },
  {
   "cell_type": "markdown",
   "metadata": {},
   "source": [
    "#### readTown(path)\n",
    "Return dataframe with the town_state.csv data "
   ]
  },
  {
   "cell_type": "code",
   "execution_count": 4,
   "metadata": {},
   "outputs": [],
   "source": [
    "def readTown(path = 'data/town_state.csv'):\n",
    "    townDF = pd.read_csv(path)\n",
    "    return townDF"
   ]
  },
  {
   "cell_type": "markdown",
   "metadata": {},
   "source": [
    "#### getTownAgencies(path, town)\n",
    "Return list with the Agencia_ID of the specified town"
   ]
  },
  {
   "cell_type": "code",
   "execution_count": 3,
   "metadata": {},
   "outputs": [
    {
     "data": {
      "text/plain": [
       "array([ 1347,  1351,  1355,  1374,  1974, 22519, 22529], dtype=int64)"
      ]
     },
     "execution_count": 3,
     "metadata": {},
     "output_type": "execute_result"
    }
   ],
   "source": [
    "def getTownAgencies(path = 'data/town_state.csv', town = 'AGUASCALIENTES'):\n",
    "    townDF = pd.read_csv(path)\n",
    "    agencies = townDF.loc[townDF['State'] == town]['Agencia_ID'].unique()\n",
    "    return agencies\n",
    "getTownAgencies(town = 'AGUASCALIENTES')"
   ]
  },
  {
   "cell_type": "markdown",
   "metadata": {},
   "source": [
    "### Differenced Demanda_uni_equil"
   ]
  },
  {
   "cell_type": "markdown",
   "metadata": {},
   "source": [
    "#### getDifferencedDemand(df, lag = 2)\n",
    "Get a dataframe with the differenced Demanda_uni_equil according to the lag periods"
   ]
  },
  {
   "cell_type": "code",
   "execution_count": 10,
   "metadata": {},
   "outputs": [],
   "source": [
    "def getDifferencedDemand(df, lag = 2): \n",
    "    demand_pivot = df.pivot_table(index=['Semana', 'Cliente_ID', 'Producto_ID', 'Agencia_ID'], values='Demanda_uni_equil', aggfunc='sum')\n",
    "    for i in range(lag):\n",
    "        demand_pivot[f'Unit_Diff{i + 1}_Demanda_uni_equil'] = demand_pivot.groupby(['Producto_ID', 'Agencia_ID','Cliente_ID'])['Demanda_uni_equil'].diff(periods=i+1)\n",
    "    \n",
    "    diff_df = df.merge(demand_pivot.drop(['Demanda_uni_equil'], axis=1), on=['Semana', 'Cliente_ID', 'Producto_ID', 'Agencia_ID'], how='left')\n",
    "    \n",
    "    diff_df.fillna(0, inplace=True)\n",
    "    \n",
    "    return diff_df\n"
   ]
  },
  {
   "cell_type": "code",
   "execution_count": 62,
   "metadata": {},
   "outputs": [
    {
     "data": {
      "text/html": [
       "<div>\n",
       "<style scoped>\n",
       "    .dataframe tbody tr th:only-of-type {\n",
       "        vertical-align: middle;\n",
       "    }\n",
       "\n",
       "    .dataframe tbody tr th {\n",
       "        vertical-align: top;\n",
       "    }\n",
       "\n",
       "    .dataframe thead th {\n",
       "        text-align: right;\n",
       "    }\n",
       "</style>\n",
       "<table border=\"1\" class=\"dataframe\">\n",
       "  <thead>\n",
       "    <tr style=\"text-align: right;\">\n",
       "      <th></th>\n",
       "      <th></th>\n",
       "      <th></th>\n",
       "      <th></th>\n",
       "      <th>Demanda_uni_equil</th>\n",
       "      <th>Unit_Diff1_Demanda_uni_equil</th>\n",
       "      <th>Unit_Diff2_Demanda_uni_equil</th>\n",
       "    </tr>\n",
       "    <tr>\n",
       "      <th>Semana</th>\n",
       "      <th>Cliente_ID</th>\n",
       "      <th>Producto_ID</th>\n",
       "      <th>Agencia_ID</th>\n",
       "      <th></th>\n",
       "      <th></th>\n",
       "      <th></th>\n",
       "    </tr>\n",
       "  </thead>\n",
       "  <tbody>\n",
       "    <tr>\n",
       "      <th>3</th>\n",
       "      <th>9200</th>\n",
       "      <th>2233</th>\n",
       "      <th>1347</th>\n",
       "      <td>1</td>\n",
       "      <td>0.0</td>\n",
       "      <td>0.0</td>\n",
       "    </tr>\n",
       "    <tr>\n",
       "      <th>4</th>\n",
       "      <th>9200</th>\n",
       "      <th>2233</th>\n",
       "      <th>1347</th>\n",
       "      <td>2</td>\n",
       "      <td>1.0</td>\n",
       "      <td>0.0</td>\n",
       "    </tr>\n",
       "    <tr>\n",
       "      <th>5</th>\n",
       "      <th>9200</th>\n",
       "      <th>2233</th>\n",
       "      <th>1347</th>\n",
       "      <td>4</td>\n",
       "      <td>2.0</td>\n",
       "      <td>3.0</td>\n",
       "    </tr>\n",
       "  </tbody>\n",
       "</table>\n",
       "</div>"
      ],
      "text/plain": [
       "                                          Demanda_uni_equil  \\\n",
       "Semana Cliente_ID Producto_ID Agencia_ID                      \n",
       "3      9200       2233        1347                        1   \n",
       "4      9200       2233        1347                        2   \n",
       "5      9200       2233        1347                        4   \n",
       "\n",
       "                                          Unit_Diff1_Demanda_uni_equil  \\\n",
       "Semana Cliente_ID Producto_ID Agencia_ID                                 \n",
       "3      9200       2233        1347                                 0.0   \n",
       "4      9200       2233        1347                                 1.0   \n",
       "5      9200       2233        1347                                 2.0   \n",
       "\n",
       "                                          Unit_Diff2_Demanda_uni_equil  \n",
       "Semana Cliente_ID Producto_ID Agencia_ID                                \n",
       "3      9200       2233        1347                                 0.0  \n",
       "4      9200       2233        1347                                 0.0  \n",
       "5      9200       2233        1347                                 3.0  "
      ]
     },
     "execution_count": 62,
     "metadata": {},
     "output_type": "execute_result"
    }
   ],
   "source": [
    "a.query('Producto_ID == 2233 & Agencia_ID == 1347 & Cliente_ID == 9200 & (Semana == 3 | Semana == 4 | Semana == 5) ').pivot_table(index=['Semana', 'Cliente_ID', 'Producto_ID', 'Agencia_ID'], values=['Demanda_uni_equil', 'Unit_Diff1_Demanda_uni_equil', 'Unit_Diff2_Demanda_uni_equil'], aggfunc='sum')"
   ]
  },
  {
   "cell_type": "markdown",
   "metadata": {},
   "source": [
    "### Read train.csv of specified town"
   ]
  },
  {
   "cell_type": "markdown",
   "metadata": {},
   "source": [
    "#### Get train data with products as label encoding"
   ]
  },
  {
   "cell_type": "code",
   "execution_count": null,
   "metadata": {},
   "outputs": [],
   "source": [
    "def getTrainData(path = 'data/train.csv', town = 'AGUASCALIENTES'):\n",
    "    trainDF = pd.DataFrame()\n",
    "    \n",
    "    for chunk in pd.read_csv(path, chunksize=100000):\n",
    "        trainDF = pd.concat([trainDF, chunk.loc[chunk['Agencia_ID'].isin(getTownAgencies(town=town))]])\n",
    "    \n",
    "    trainDF = getDifferencedDemand(trainDF, lag=4)\n",
    "    \n",
    "    productsDF = getProducts()\n",
    "    \n",
    "    trainDF = trainDF.merge(productsDF, on='Producto_ID', how='left')                        \n",
    "    return trainDF\n"
   ]
  },
  {
   "cell_type": "markdown",
   "metadata": {},
   "source": [
    "#### Get train data with products as dummies encoding"
   ]
  },
  {
   "cell_type": "code",
   "execution_count": 70,
   "metadata": {},
   "outputs": [],
   "source": [
    "def getEncodedTrainData(path = 'data/train.csv', town = 'AGUASCALIENTES'):\n",
    "    trainDF = pd.DataFrame()\n",
    "    \n",
    "    for chunk in pd.read_csv(path, chunksize=100000):\n",
    "        trainDF = pd.concat([trainDF, chunk.loc[chunk['Agencia_ID'].isin(getTownAgencies(town=town))]])\n",
    "    \n",
    "    trainDF = getDifferencedDemand(trainDF, lag=4)\n",
    "    \n",
    "    productsDF = getEncodedProducts()\n",
    "    \n",
    "    trainDF = trainDF.merge(productsDF, on='Producto_ID', how='left')                        \n",
    "    return trainDF"
   ]
  },
  {
   "cell_type": "markdown",
   "metadata": {},
   "source": [
    "## Save data as csv file"
   ]
  },
  {
   "cell_type": "markdown",
   "metadata": {},
   "source": [
    "#### Label encoded data"
   ]
  },
  {
   "cell_type": "code",
   "execution_count": 72,
   "metadata": {},
   "outputs": [],
   "source": [
    "trainDF = getTrainData()\n",
    "trainDF.to_csv('data/train_aguascalientes.csv', index=False)\n"
   ]
  },
  {
   "cell_type": "markdown",
   "metadata": {},
   "source": [
    "#### Dummy encoded data "
   ]
  },
  {
   "cell_type": "code",
   "execution_count": 73,
   "metadata": {},
   "outputs": [],
   "source": [
    "trainEncodedDF = getEncodedTrainData()\n",
    "trainEncodedDF.to_csv('data/train_encoded_aguascalientes.csv', index=False)"
   ]
  },
  {
   "cell_type": "markdown",
   "metadata": {},
   "source": [
    "# Test data"
   ]
  },
  {
   "cell_type": "code",
   "execution_count": null,
   "metadata": {},
   "outputs": [],
   "source": [
    "def getTestData(path_train = 'data/train.csv', path_test = 'data/test.csv', town = 'AGUASCALIENTES'):\n",
    "    test = pd.DataFrame()\n",
    "    \n",
    "    for chunk in pd.read_csv(path_train, chunksize=100000):\n",
    "        test = pd.concat([test.drop(['Demanda_uni_equil', 'CategoriaProducto', \n",
    "                                           'Venta_uni_hoy', 'Venta_hoy', 'Dev_uni_proxima', 'Dev_proxima'],\n",
    "                                          axis=1), chunk.loc[chunk['Agencia_ID'].isin(getTownAgencies(town=town))]])\n",
    "        \n",
    "    for chunk in pd.read_csv(path_test, chunksize=100000):\n",
    "        trainDF = pd.concat([trainDF, chunk.loc[chunk['Agencia_ID'].isin(getTownAgencies(town=town))]])\n",
    "    \n",
    "    test = getDifferencedDemand(trainDF, lag=4)\n",
    "    \n",
    "    productsDF = getProducts()\n",
    "    \n",
    "    trainDF = trainDF.merge(productsDF, on='Producto_ID', how='left')                        \n",
    "    return trainDF"
   ]
  }
 ],
 "metadata": {
  "kernelspec": {
   "display_name": "Python 3",
   "language": "python",
   "name": "python3"
  },
  "language_info": {
   "codemirror_mode": {
    "name": "ipython",
    "version": 3
   },
   "file_extension": ".py",
   "mimetype": "text/x-python",
   "name": "python",
   "nbconvert_exporter": "python",
   "pygments_lexer": "ipython3",
   "version": "3.11.0"
  }
 },
 "nbformat": 4,
 "nbformat_minor": 2
}
