{
 "cells": [
  {
   "cell_type": "markdown",
   "metadata": {},
   "source": [
    "## Grupo Bimbo Inventory Demand\n",
    "Machine Learning using Logistic Regression"
   ]
  },
  {
   "cell_type": "code",
   "execution_count": 15,
   "metadata": {},
   "outputs": [],
   "source": [
    "import pandas as pd\n",
    "import numpy as np\n",
    "import matplotlib.pyplot as plt\n",
    "from sklearn.linear_model import LogisticRegression\n",
    "from sklearn.model_selection import train_test_split\n",
    "from sklearn.preprocessing import StandardScaler\n",
    "from sklearn.metrics import accuracy_score\n"
   ]
  },
  {
   "cell_type": "code",
   "execution_count": 16,
   "metadata": {},
   "outputs": [],
   "source": [
    "df=pd.read_csv('ags_data.csv')"
   ]
  },
  {
   "cell_type": "code",
   "execution_count": 17,
   "metadata": {},
   "outputs": [
    {
     "name": "stdout",
     "output_type": "stream",
     "text": [
      "<class 'pandas.core.frame.DataFrame'>\n",
      "RangeIndex: 1264976 entries, 0 to 1264975\n",
      "Data columns (total 21 columns):\n",
      " #   Column                                       Non-Null Count    Dtype  \n",
      "---  ------                                       --------------    -----  \n",
      " 0   Unnamed: 0                                   1264976 non-null  int64  \n",
      " 1   Semana                                       1264976 non-null  int64  \n",
      " 2   Agencia_ID                                   1264976 non-null  int64  \n",
      " 3   Canal_ID                                     1264976 non-null  int64  \n",
      " 4   Ruta_SAK                                     1264976 non-null  int64  \n",
      " 5   Cliente_ID                                   1264976 non-null  int64  \n",
      " 6   Producto_ID                                  1264976 non-null  int64  \n",
      " 7   Venta_uni_hoy                                1264976 non-null  int64  \n",
      " 8   Venta_hoy                                    1264976 non-null  float64\n",
      " 9   Dev_uni_proxima                              1264976 non-null  int64  \n",
      " 10  Dev_proxima                                  1264976 non-null  float64\n",
      " 11  Demanda_uni_equil                            1264976 non-null  int64  \n",
      " 12  NombreProducto                               1264976 non-null  object \n",
      " 13  NombreProductoCat                            1264976 non-null  object \n",
      " 14  Category                                     1264976 non-null  int64  \n",
      " 15  Town                                         1264976 non-null  object \n",
      " 16  Sum_Demanda_Semana_Producto_Agencia          1264976 non-null  int64  \n",
      " 17  Diff1_DemandaUni_Producto_Agencia            1059996 non-null  float64\n",
      " 18  Diff2_DemandaUni_Producto_Agencia            860380 non-null   float64\n",
      " 19  Diff1_DemandaUni_Producto_Agencia_Cliente    857306 non-null   float64\n",
      " 20  Diff1_DemandaUni_Producto_Agencia_Cliente.1  857306 non-null   float64\n",
      "dtypes: float64(6), int64(12), object(3)\n",
      "memory usage: 202.7+ MB\n"
     ]
    }
   ],
   "source": [
    "df.info()"
   ]
  },
  {
   "cell_type": "code",
   "execution_count": 18,
   "metadata": {},
   "outputs": [
    {
     "data": {
      "text/plain": [
       "Unnamed: 0                                          0\n",
       "Semana                                              0\n",
       "Agencia_ID                                          0\n",
       "Canal_ID                                            0\n",
       "Ruta_SAK                                            0\n",
       "Cliente_ID                                          0\n",
       "Producto_ID                                         0\n",
       "Venta_uni_hoy                                       0\n",
       "Venta_hoy                                           0\n",
       "Dev_uni_proxima                                     0\n",
       "Dev_proxima                                         0\n",
       "Demanda_uni_equil                                   0\n",
       "NombreProducto                                      0\n",
       "NombreProductoCat                                   0\n",
       "Category                                            0\n",
       "Town                                                0\n",
       "Sum_Demanda_Semana_Producto_Agencia                 0\n",
       "Diff1_DemandaUni_Producto_Agencia              204980\n",
       "Diff2_DemandaUni_Producto_Agencia              404596\n",
       "Diff1_DemandaUni_Producto_Agencia_Cliente      407670\n",
       "Diff1_DemandaUni_Producto_Agencia_Cliente.1    407670\n",
       "dtype: int64"
      ]
     },
     "execution_count": 18,
     "metadata": {},
     "output_type": "execute_result"
    }
   ],
   "source": [
    "df.isnull().sum()"
   ]
  },
  {
   "cell_type": "code",
   "execution_count": 19,
   "metadata": {},
   "outputs": [],
   "source": [
    "df['Diff1_DemandaUni_Producto_Agencia'].fillna(0, inplace=True)\n",
    "df['Diff2_DemandaUni_Producto_Agencia'].fillna(0, inplace=True)\n",
    "df['Diff1_DemandaUni_Producto_Agencia_Cliente'].fillna(0, inplace=True)\n",
    "df['Diff1_DemandaUni_Producto_Agencia_Cliente.1'].fillna(0, inplace=True)"
   ]
  },
  {
   "cell_type": "code",
   "execution_count": 20,
   "metadata": {},
   "outputs": [
    {
     "data": {
      "text/plain": [
       "Unnamed: 0                                     0\n",
       "Semana                                         0\n",
       "Agencia_ID                                     0\n",
       "Canal_ID                                       0\n",
       "Ruta_SAK                                       0\n",
       "Cliente_ID                                     0\n",
       "Producto_ID                                    0\n",
       "Venta_uni_hoy                                  0\n",
       "Venta_hoy                                      0\n",
       "Dev_uni_proxima                                0\n",
       "Dev_proxima                                    0\n",
       "Demanda_uni_equil                              0\n",
       "NombreProducto                                 0\n",
       "NombreProductoCat                              0\n",
       "Category                                       0\n",
       "Town                                           0\n",
       "Sum_Demanda_Semana_Producto_Agencia            0\n",
       "Diff1_DemandaUni_Producto_Agencia              0\n",
       "Diff2_DemandaUni_Producto_Agencia              0\n",
       "Diff1_DemandaUni_Producto_Agencia_Cliente      0\n",
       "Diff1_DemandaUni_Producto_Agencia_Cliente.1    0\n",
       "dtype: int64"
      ]
     },
     "execution_count": 20,
     "metadata": {},
     "output_type": "execute_result"
    }
   ],
   "source": [
    "df.isnull().sum()   "
   ]
  },
  {
   "cell_type": "code",
   "execution_count": 22,
   "metadata": {},
   "outputs": [
    {
     "data": {
      "text/plain": [
       "Index(['Unnamed: 0', 'Semana', 'Agencia_ID', 'Canal_ID', 'Ruta_SAK',\n",
       "       'Cliente_ID', 'Producto_ID', 'Venta_uni_hoy', 'Venta_hoy',\n",
       "       'Dev_uni_proxima', 'Dev_proxima', 'Demanda_uni_equil', 'NombreProducto',\n",
       "       'NombreProductoCat', 'Category', 'Town',\n",
       "       'Sum_Demanda_Semana_Producto_Agencia',\n",
       "       'Diff1_DemandaUni_Producto_Agencia',\n",
       "       'Diff2_DemandaUni_Producto_Agencia',\n",
       "       'Diff1_DemandaUni_Producto_Agencia_Cliente',\n",
       "       'Diff1_DemandaUni_Producto_Agencia_Cliente.1'],\n",
       "      dtype='object')"
      ]
     },
     "execution_count": 22,
     "metadata": {},
     "output_type": "execute_result"
    }
   ],
   "source": [
    "df.columns"
   ]
  },
  {
   "cell_type": "code",
   "execution_count": 28,
   "metadata": {},
   "outputs": [],
   "source": [
    "# Assuming 'df' is your DataFrame containing the relevant data\n",
    "# Selecting independent variables\n",
    "X = df[['Agencia_ID','Cliente_ID','Venta_uni_hoy', 'Venta_hoy','Dev_uni_proxima', 'Dev_proxima', 'Category','Sum_Demanda_Semana_Producto_Agencia','Diff1_DemandaUni_Producto_Agencia',\n",
    "       'Diff2_DemandaUni_Producto_Agencia',\n",
    "       'Diff1_DemandaUni_Producto_Agencia_Cliente',\n",
    "       'Diff1_DemandaUni_Producto_Agencia_Cliente.1']]\n",
    "\n",
    "# Selecting the dependent variable\n",
    "y = df['Demanda_uni_equil']\n",
    "\n",
    "# Splitting the data into training and testing sets\n",
    "X_train, X_test, y_train, y_test = train_test_split(X, y, test_size=0.2, random_state=42)\n",
    "# Standardize the features if needed\n",
    "scaler = StandardScaler()\n",
    "X_train_scaled = scaler.fit_transform(X_train)\n",
    "X_test_scaled = scaler.transform(X_test)\n",
    "\n",
    "# Fit logistic regression model\n",
    "model1 = LogisticRegression(max_iter=100000)\n",
    "model1.fit(X_train_scaled, y_train)\n",
    "\n",
    "# Predictions on the test set\n",
    "y_pred = model1.predict(X_test_scaled)"
   ]
  },
  {
   "cell_type": "code",
   "execution_count": 31,
   "metadata": {},
   "outputs": [
    {
     "name": "stdout",
     "output_type": "stream",
     "text": [
      "Coefficients: [[-3.75457399e-01  1.02986612e-01 -2.82106688e+02 ... -1.57246221e-02\n",
      "   4.88379040e-02  4.88379040e-02]\n",
      " [-3.76311500e-01  1.04213136e-01 -3.58432958e+02 ...  1.94485045e-01\n",
      "  -8.61491682e-01 -8.61491682e-01]\n",
      " [-3.08366554e-01  9.11559786e-02 -2.56877375e+02 ...  1.36402878e-01\n",
      "  -6.64388110e-01 -6.64388110e-01]\n",
      " ...\n",
      " [-9.00762579e-02 -9.83504571e-02  4.30007390e+00 ...  6.54074507e-02\n",
      "  -1.50970516e-03 -1.50970516e-03]\n",
      " [-1.05598379e+00  3.28448105e-03  3.93986184e+00 ...  4.71978605e-02\n",
      "   3.93002847e-01  3.93002847e-01]\n",
      " [-5.68841800e-01  1.60358392e-01  3.50780822e+00 ... -1.58051415e-02\n",
      "   3.19926973e-01  3.19926973e-01]]\n",
      "Intercept: [-2.22580937e+01 -1.51267532e+01  1.59938808e+01  3.44800219e+01\n",
      "  4.39691387e+01  4.84094003e+01  5.02593845e+01  4.99277518e+01\n",
      "  5.01511716e+01  4.90043344e+01  4.89362762e+01  4.66788120e+01\n",
      "  4.61778049e+01  4.44788644e+01  4.35800298e+01  4.33849479e+01\n",
      "  4.16745072e+01  4.01484044e+01  3.96790020e+01  3.80686765e+01\n",
      "  3.87159807e+01  3.63786533e+01  3.57648097e+01  3.46506001e+01\n",
      "  3.42775566e+01  3.39711862e+01  3.26256009e+01  3.17683403e+01\n",
      "  3.12210197e+01  2.99995183e+01  3.10247763e+01  2.87521739e+01\n",
      "  2.85527917e+01  2.76108767e+01  2.70173178e+01  2.73269431e+01\n",
      "  2.62581271e+01  2.52638306e+01  2.48328847e+01  2.41887866e+01\n",
      "  2.58413822e+01  2.32814994e+01  2.36794423e+01  2.20367859e+01\n",
      "  2.19009383e+01  2.24493208e+01  2.11081825e+01  2.04854034e+01\n",
      "  2.07741014e+01  1.95134405e+01  2.05129487e+01  1.88968628e+01\n",
      "  1.96281992e+01  1.80429432e+01  1.83260708e+01  1.84244776e+01\n",
      "  1.74671767e+01  1.70112544e+01  1.65560600e+01  1.63283778e+01\n",
      "  1.77819307e+01  1.52446699e+01  1.57242340e+01  1.50785107e+01\n",
      "  1.51610072e+01  1.55585420e+01  1.49754442e+01  1.38618482e+01\n",
      "  1.41635216e+01  1.38398839e+01  1.46118245e+01  1.27508823e+01\n",
      "  1.41425532e+01  1.21755333e+01  1.25130854e+01  1.31854872e+01\n",
      "  1.20720084e+01  1.18619043e+01  1.27063962e+01  1.15144107e+01\n",
      "  1.42451263e+01  1.14573089e+01  1.14759854e+01  1.06773663e+01\n",
      "  1.21798441e+01  1.05516207e+01  9.67691719e+00  1.00743063e+01\n",
      "  1.01980912e+01  9.95866258e+00  1.11990791e+01  9.21112928e+00\n",
      "  9.50358314e+00  8.90432757e+00  9.19222459e+00  9.53386710e+00\n",
      "  9.90721763e+00  8.31977821e+00  8.37352004e+00  8.55365434e+00\n",
      "  9.59048578e+00  7.56235005e+00  8.32892660e+00  7.06489605e+00\n",
      "  9.41314501e+00  7.84071510e+00  6.75520377e+00  6.72147713e+00\n",
      "  7.56266363e+00  6.83208246e+00  7.90532646e+00  6.45858640e+00\n",
      "  7.55481998e+00  6.64902517e+00  6.48708572e+00  7.04609601e+00\n",
      "  5.58748350e+00  5.61733415e+00  5.65354209e+00  5.73826198e+00\n",
      "  8.29326494e+00  6.56321327e+00  5.65369163e+00  5.66133521e+00\n",
      "  5.91872215e+00  6.13106538e+00  6.79313409e+00  4.90518801e+00\n",
      "  5.36944652e+00  3.87642214e+00  6.32466098e+00  3.93974596e+00\n",
      "  5.96008323e+00  3.71576350e+00  5.35169073e+00  6.18071944e+00\n",
      "  3.53750565e+00  4.61296534e+00  5.40140836e+00  3.84853596e+00\n",
      "  5.48644940e+00  3.64348924e+00  4.13596299e+00  3.54877745e+00\n",
      "  5.21608201e+00  4.41926610e+00  2.92600325e+00  3.06428882e+00\n",
      "  2.94946162e+00  3.60110425e+00  4.45356861e+00  2.73512733e+00\n",
      "  3.59672952e+00  3.13427826e+00  4.14288927e+00  2.38462210e+00\n",
      "  3.72487629e+00  3.25556550e+00  2.33030463e+00  4.95799518e-01\n",
      "  4.90144841e+00  3.06504887e+00  3.13111998e+00  1.05294409e+00\n",
      "  8.25389883e-01  3.24771739e+00  1.62311084e+00  1.04569259e+00\n",
      "  4.13932648e+00  1.90736238e+00  2.35101065e+00  8.18176191e-01\n",
      "  7.72862336e-01 -3.02490993e+00  1.64834406e+00  2.75260165e+00\n",
      "  2.92169334e+00  2.30570483e+00  9.68789673e-01  2.20154798e+00\n",
      "  2.98645678e+00  1.46967822e+00  2.83391253e+00 -3.93714082e-01\n",
      "  1.61199004e+00  9.64950194e-01  6.19863068e-01  1.69179638e-01\n",
      "  1.99259558e+00  2.09236859e+00  2.32689182e-01  2.42633507e+00\n",
      "  1.89885745e+00  1.15527383e+00  4.42464400e-01  3.85326847e-01\n",
      "  1.93941838e+00  1.23141092e+00  7.44762780e-01  1.10265228e-02\n",
      "  2.94677048e+00  1.53759111e+00 -1.32746326e+00  4.29626919e-01\n",
      "  7.41554107e-01 -8.86381221e-02  3.73816047e-01 -4.10610870e-02\n",
      "  8.46684599e-01 -4.48867774e-01  1.93120402e+00  3.80516369e-01\n",
      "  7.26983653e-01 -3.38065580e+00 -5.90341520e-01 -8.71001152e-02\n",
      "  1.59325828e-01 -4.79194952e+00  2.35238394e-01 -9.41969477e-02\n",
      "  1.52612879e+00 -3.06565464e-01  5.32570344e-03 -1.03917729e-01\n",
      "  6.64098803e-01  1.64015953e+00 -1.21316598e+00 -2.09044937e+00\n",
      "  9.10137310e-01 -2.88191456e+00 -1.32925611e+00 -1.39419475e+00\n",
      " -2.75848025e+00 -6.47292304e+00 -2.69215597e+00 -6.54869868e-01\n",
      " -1.42960841e+00 -1.85135586e+00 -2.29895145e+00 -3.15312100e-01\n",
      "  6.20518260e-01 -4.11144031e-01 -8.28222079e-01 -9.57442995e+00\n",
      " -3.46592719e+00 -7.37974192e+00 -2.26516624e+00 -7.52910316e-01\n",
      " -1.32782678e+00 -1.43794135e+00 -1.62835913e+00 -1.43514409e+00\n",
      " -9.18944078e-02 -1.26868386e+00 -2.48736681e+00 -1.25847007e+00\n",
      " -2.71761597e+00 -2.81847758e+00 -1.74615730e+00 -1.06225513e+00\n",
      " -1.31879592e-01 -5.99991454e+00 -9.76962203e-01 -1.55548605e+00\n",
      " -1.39943507e+00 -7.80788733e+00 -2.85772513e+00 -6.85816274e-01\n",
      " -2.37944041e+00  2.79495186e-01 -1.21126617e+00 -7.27606174e+00\n",
      " -1.10092880e+00 -1.74910697e+00 -3.46877530e+00 -3.64082609e+00\n",
      " -2.15669653e+00 -4.86751664e+00 -6.55619683e+00 -2.61457176e+00\n",
      " -2.34754914e-01 -4.48348776e+00 -3.15454716e+00 -4.83345026e+00\n",
      " -2.64703942e+00 -4.83847530e+00 -2.17520774e+00 -7.62638318e+00\n",
      " -2.72423004e+00 -3.96289167e+00 -6.56235168e+00 -3.61795953e+00\n",
      " -4.21247315e+00 -2.03352493e+00 -3.33523606e+00 -3.83702494e+00\n",
      " -4.02621431e+00 -7.10315641e+00 -1.88256291e+00 -1.85394761e+00\n",
      " -6.31447362e+00 -2.81102821e+00 -2.33090215e+00 -3.21235583e+00\n",
      " -6.29891156e+00 -1.88132329e+00 -3.57358315e+00 -2.51541424e+00\n",
      " -4.62250305e+00 -4.61718207e+00 -8.04856172e+00 -5.67845387e+00\n",
      " -5.31086173e+00 -4.03420149e+00 -5.37382321e+00 -6.59800669e+00\n",
      " -3.41530528e+00 -3.45787531e+00 -3.19811283e+00 -3.83193706e+00\n",
      " -3.63953815e+00 -3.54567747e+00 -6.05587001e+00 -5.34125667e-01\n",
      " -5.60048472e+00 -8.36098299e+00 -3.40716460e+00 -3.03249151e+00\n",
      " -1.92547426e+00 -4.39096174e+00 -1.85580036e+00 -8.47842794e+00\n",
      " -3.10070591e+00 -7.31632129e+00 -6.35397003e+00 -4.56325319e+00\n",
      " -2.34000541e+00 -9.90023568e+00 -6.64272172e+00 -2.45502223e+00\n",
      " -7.65095970e+00 -9.32093200e+00 -3.42282524e+00 -4.19553254e+00\n",
      " -6.07776646e+00 -2.71657884e+00 -3.36936815e+00 -5.11500283e+00\n",
      " -9.38994020e+00 -5.90029779e+00 -6.08196375e+00 -4.51647879e+00\n",
      " -4.29920577e+00 -5.08394794e+00 -4.70228296e+00 -6.31551613e+00\n",
      " -6.17716059e+00 -4.27581274e+00 -6.57266874e+00 -1.11771100e+01\n",
      " -4.86300057e+00 -8.48741402e+00 -6.37781994e+00 -6.52777236e+00\n",
      " -4.91079585e+00 -1.23786011e+01 -4.79077333e+00 -4.32869793e+00\n",
      " -4.05836410e+00 -4.47083039e+00 -4.85042244e+00 -1.11136546e+01\n",
      " -7.23326485e+00 -3.18271254e+00 -5.79332248e+00 -6.66001841e+00\n",
      " -6.32570478e+00 -6.92807493e+00 -4.92711845e+00 -7.34788412e+00\n",
      " -3.11981162e+00 -7.81184609e+00 -1.04666343e+01 -5.58915365e+00\n",
      " -7.80810465e+00 -3.56195674e+00 -9.15431185e+00 -6.68335245e+00\n",
      " -1.10672489e+01 -7.23220088e+00 -8.42141241e+00 -1.09878775e+01\n",
      " -3.92872461e+00 -5.32839521e+00 -7.90943915e+00 -6.09645303e+00\n",
      " -7.13324345e+00 -1.15177823e+01 -1.32295137e+01 -7.96478843e+00\n",
      " -5.54965255e+00 -6.48655433e+00 -6.71999235e+00 -7.26860982e+00\n",
      " -8.69632274e+00 -4.56968777e+00 -6.13970256e+00 -5.77667941e+00\n",
      " -6.76479898e+00 -7.80470753e+00 -1.15568269e+01 -5.13263130e+00\n",
      " -7.99675179e+00 -5.92390533e+00 -4.74020350e+00 -5.38312121e+00\n",
      " -1.22123428e+01 -7.27539881e+00 -8.64029324e+00 -8.59476853e+00\n",
      " -9.14552313e+00 -1.05790565e+01 -9.58678927e+00 -2.67587804e+00\n",
      " -8.52610911e+00 -8.01623041e+00 -8.67400571e+00 -9.65958927e+00\n",
      " -7.18402296e+00 -3.32313641e+00 -5.44489159e+00 -7.41445923e+00\n",
      " -1.23095823e+01 -9.07110969e+00 -4.25462679e+00 -9.73652205e+00\n",
      " -8.28223247e+00 -8.69321758e+00 -9.50945199e+00 -5.80415489e+00\n",
      " -8.38755003e+00 -9.53937499e+00 -3.76699423e-01 -8.58089575e+00\n",
      " -3.80699699e+00 -3.90148853e+00 -7.28855610e+00 -7.96975211e+00\n",
      " -1.17184442e+01 -1.25907284e+01 -7.43294399e+00 -8.35025847e+00\n",
      " -5.75011870e+00 -7.67379512e+00 -1.25628251e+01 -6.98063839e+00\n",
      " -8.77991175e+00 -1.27689508e+01 -1.18546883e+01 -1.01068509e+01\n",
      " -1.03878782e+01 -6.38514130e+00 -4.99206852e+00 -9.57751428e+00\n",
      " -1.10039801e+01 -1.29497832e+01 -1.16401543e+01 -1.26421229e+01\n",
      " -1.23120650e+01 -8.76441218e+00 -9.00829849e+00 -1.05490524e+01\n",
      " -9.72229808e+00 -9.38677536e+00 -1.12865351e+01 -1.28542640e+01\n",
      " -9.25009751e+00 -5.28239296e+00 -1.28858184e+01 -1.17335829e+01\n",
      " -7.97831268e+00 -1.10187627e+01 -6.51835069e+00 -8.52334207e+00\n",
      " -1.19343426e+01 -1.19184130e+01 -1.28102220e+01 -1.27338915e+01\n",
      " -1.05240031e+01 -1.05111158e+01 -8.93764566e+00 -1.32985798e+01\n",
      " -1.28802124e+01 -1.27544190e+01 -9.11326311e+00 -1.21400582e+01\n",
      " -1.33572802e+01 -1.41964427e+01 -1.33650193e+01 -1.42814629e+01\n",
      " -1.39192880e+01 -1.51663065e+01 -1.08362762e+01 -1.23019275e+01\n",
      " -1.10417952e+01 -1.34503659e+01 -1.30421065e+01 -6.66317519e+00\n",
      " -1.08605199e+01 -1.29366786e+01 -7.91522940e+00 -1.50530471e+01\n",
      " -9.43129400e+00 -1.16985268e+01 -1.19824119e+01 -1.17571471e+01\n",
      " -8.84610941e+00 -8.49513959e+00 -7.28736523e+00 -7.40946281e+00\n",
      " -1.23278012e+01 -1.64179158e+01 -9.43595044e+00 -6.30265084e+00\n",
      " -1.54220300e+01 -9.41935073e+00 -8.61769110e+00 -1.33351082e+01\n",
      " -1.38181960e+01 -1.31362295e+01 -1.59661189e+01 -1.44150606e+01\n",
      " -1.66594117e+01 -9.08606736e+00 -1.77551675e+01 -1.33459319e+01\n",
      " -1.34916046e+01 -1.08593628e+01 -1.36378961e+01 -5.05871245e+00\n",
      " -1.43858893e+01 -1.13861361e+01 -9.77630920e+00 -1.39931569e+01\n",
      " -1.59047271e+01 -8.32690709e+00 -8.21185868e+00 -1.19528944e+01\n",
      " -6.49472053e+00 -1.15972108e+01 -1.49858114e+01 -1.48519036e+01\n",
      " -1.22293400e+01 -1.51570557e+01 -1.71933349e+01 -1.48474792e+01\n",
      " -9.70400399e+00 -1.25612860e+01 -6.97993988e+00 -1.00074977e+01\n",
      " -1.08848274e+01 -1.46294743e+01 -1.06319896e+01 -9.96939161e+00\n",
      " -1.04565224e+01 -1.10397957e+01 -1.05584656e+01 -5.06181781e+00\n",
      " -1.02294461e+01 -1.20500773e+01 -1.58271741e+01 -1.01822305e+01\n",
      " -1.10586887e+01 -1.14628700e+01 -5.61412383e+00 -7.24511231e+00\n",
      " -1.22003328e+01 -8.60028829e+00 -1.56461714e+01 -6.37916701e+00\n",
      " -1.97105254e+01]\n"
     ]
    }
   ],
   "source": [
    "\n",
    "# Print the coefficients and intercept\n",
    "print(\"Coefficients:\", model1.coef_)\n",
    "print(\"Intercept:\", model1.intercept_)"
   ]
  },
  {
   "cell_type": "code",
   "execution_count": 32,
   "metadata": {},
   "outputs": [
    {
     "name": "stdout",
     "output_type": "stream",
     "text": [
      "RMSLE: 0.06755367415529438\n"
     ]
    }
   ],
   "source": [
    "\n",
    "def rmsle(predictions, targets):\n",
    "    \"\"\"\n",
    "    Calculate Root Mean Square Logarithmic Error between two arrays.\n",
    "    \n",
    "    Parameters:\n",
    "    - predictions: array containing predicted values\n",
    "    - targets: array containing true values\n",
    "    \n",
    "    Returns:\n",
    "    - rmsle: Root Mean Square Logarithmic Error\n",
    "    \"\"\"\n",
    "    assert len(predictions) == len(targets), \"Input arrays must have the same length\"\n",
    "    \n",
    "    # Avoid log(0) by adding 1 to both predictions and targets\n",
    "    log_diff = np.log1p(predictions) - np.log1p(targets)\n",
    "    squared_log_diff = np.square(log_diff)\n",
    "    mean_squared_log_diff = np.mean(squared_log_diff)\n",
    "    rmsle = np.sqrt(mean_squared_log_diff)\n",
    "    \n",
    "    return rmsle\n",
    "\n",
    "rmsle_value = rmsle(y_pred, y_test)\n",
    "print(\"RMSLE:\", rmsle_value)\n"
   ]
  },
  {
   "cell_type": "code",
   "execution_count": 33,
   "metadata": {},
   "outputs": [
    {
     "name": "stdout",
     "output_type": "stream",
     "text": [
      "Mean Squared Error: 52.419366314091924\n",
      "Root Mean Squared Error: 7.240121981989801\n"
     ]
    }
   ],
   "source": [
    "from sklearn.metrics import mean_squared_error\n",
    "from math import sqrt\n",
    "# Calculate mean squared error\n",
    "mse = mean_squared_error(y_test, y_pred)\n",
    "\n",
    "# Calculate root mean squared error\n",
    "rmse = sqrt(mse)\n",
    "\n",
    "print(\"Mean Squared Error:\", mse)\n",
    "print(\"Root Mean Squared Error:\", rmse)"
   ]
  },
  {
   "cell_type": "code",
   "execution_count": 34,
   "metadata": {},
   "outputs": [
    {
     "name": "stdout",
     "output_type": "stream",
     "text": [
      "Mean Absolute Error: 0.5111622318139417\n"
     ]
    }
   ],
   "source": [
    "# Calculate mean absolute error\n",
    "from sklearn.metrics import mean_absolute_error\n",
    "mae = mean_absolute_error(y_test, y_pred)\n",
    "print(\"Mean Absolute Error:\", mae)\n"
   ]
  },
  {
   "cell_type": "code",
   "execution_count": 36,
   "metadata": {},
   "outputs": [
    {
     "data": {
      "image/png": "[encoded data removed]",
      "text/plain": [
       "<Figure size 640x480 with 1 Axes>"
      ]
     },
     "metadata": {},
     "output_type": "display_data"
    }
   ],
   "source": [
    "#Plotting the results\n",
    "plt.scatter(y_test, y_pred, color='blue')\n",
    "plt.xlabel('Actual Values')\n",
    "plt.ylabel('Predictions')\n",
    "plt.plot([min(y_test), max(y_test)], [min(y_test), max(y_test)], linestyle='--', color='red', linewidth=2)  # Diagonal line for reference\n",
    "plt.show()"
   ]
  }
 ],
 "metadata": {
  "kernelspec": {
   "display_name": "Python 3",
   "language": "python",
   "name": "python3"
  },
  "language_info": {
   "codemirror_mode": {
    "name": "ipython",
    "version": 3
   },
   "file_extension": ".py",
   "mimetype": "text/x-python",
   "name": "python",
   "nbconvert_exporter": "python",
   "pygments_lexer": "ipython3",
   "version": "3.11.2"
  }
 },
 "nbformat": 4,
 "nbformat_minor": 2
}
